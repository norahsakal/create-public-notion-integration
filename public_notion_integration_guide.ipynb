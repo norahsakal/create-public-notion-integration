{
 "cells": [
  {
   "cell_type": "code",
   "execution_count": null,
   "id": "63b91972",
   "metadata": {},
   "outputs": [],
   "source": [
    "import base64\n",
    "import json\n",
    "import os\n",
    "import requests\n",
    "\n",
    "import urllib.parse"
   ]
  },
  {
   "cell_type": "markdown",
   "id": "dcdbb37e",
   "metadata": {},
   "source": [
    "## Further reading\n",
    "The authorization steps of this repo is from the guide in Notion: https://developers.notion.com/docs/authorization#authorizing-public-integrations\n",
    "    \n",
    "Detailed step-by-step intructions for this whole repo in this blog post: https://norahsakal.com/blog/create-public-notion-integration\n",
    "        "
   ]
  },
  {
   "cell_type": "markdown",
   "id": "696f5886",
   "metadata": {},
   "source": [
    "## Notion public integration credentials\n",
    "Note that your redirect_uri has to be **exactly** the same as the one you added when creating the integration in Notion"
   ]
  },
  {
   "cell_type": "code",
   "execution_count": null,
   "id": "c8364461",
   "metadata": {},
   "outputs": [],
   "source": [
    "oauth_client_id = \"YOUR_OAUTH_CLIENT_ID\"\n",
    "oauth_client_secret = \"YOUR_OAUTH_CLIENT_SECRET\"\n",
    "redirect_uri = \"YOUR_REDIRECT_URL\""
   ]
  },
  {
   "cell_type": "markdown",
   "id": "f3e09a4c",
   "metadata": {},
   "source": [
    "## Parse your redirect url"
   ]
  },
  {
   "cell_type": "code",
   "execution_count": null,
   "id": "54c1032f",
   "metadata": {},
   "outputs": [],
   "source": [
    "parsed_redirect_uri = urllib.parse.quote_plus(redirect_uri)"
   ]
  },
  {
   "cell_type": "markdown",
   "id": "91b7976e",
   "metadata": {},
   "source": [
    "## Create the authorization URL that authorizes your public integration access to users pages/databases\n",
    "Visit the URL you received and authorize your app"
   ]
  },
  {
   "cell_type": "code",
   "execution_count": null,
   "id": "a61f06b6",
   "metadata": {},
   "outputs": [],
   "source": [
    "auth_url = f\"https://api.notion.com/v1/oauth/authorize?owner=user&client_id={oauth_client_id}&redirect_uri={parsed_redirect_uri}&response_type=code\"\n",
    "\n",
    "# Visit the URL you received and authorize your Notion integration\n",
    "print(auth_url)"
   ]
  },
  {
   "cell_type": "markdown",
   "id": "059e0395",
   "metadata": {},
   "source": [
    "## Save the URL you got redirected to after authorization"
   ]
  },
  {
   "cell_type": "code",
   "execution_count": null,
   "id": "d3b1e776",
   "metadata": {},
   "outputs": [],
   "source": [
    "redirect_url_response = \"THE_URL_YOU_GOT_REDIRECTED_TO_AFTER_AUTHORIZATION\""
   ]
  },
  {
   "cell_type": "markdown",
   "id": "275323db",
   "metadata": {},
   "source": [
    "## Extract and save the code from the redirect URL"
   ]
  },
  {
   "cell_type": "code",
   "execution_count": null,
   "id": "2023f0cf",
   "metadata": {},
   "outputs": [],
   "source": [
    "auth_code = redirect_url_response.split('code=')[-1].split('&state=')[0]\n",
    "auth_code"
   ]
  },
  {
   "cell_type": "markdown",
   "id": "eb0cec4d",
   "metadata": {},
   "source": [
    "## Base64 encode your credentials to exchange the code into an access token"
   ]
  },
  {
   "cell_type": "code",
   "execution_count": null,
   "id": "ed5e0081",
   "metadata": {},
   "outputs": [],
   "source": [
    "key_secret = f'{oauth_client_id}:{oauth_client_secret}'.encode('ascii')\n",
    "b64_encoded_key = base64.b64encode(key_secret)\n",
    "b64_encoded_key = b64_encoded_key.decode('ascii')"
   ]
  },
  {
   "cell_type": "markdown",
   "id": "8a135d2d",
   "metadata": {},
   "source": [
    "## Exchange the code for an access token"
   ]
  },
  {
   "cell_type": "code",
   "execution_count": null,
   "id": "c468c53b",
   "metadata": {},
   "outputs": [],
   "source": [
    "base_url = 'https://api.notion.com/v1/oauth/token'\n",
    "\n",
    "auth_headers = {\n",
    "    'Authorization': f'Basic {b64_encoded_key}',\n",
    "    'Content-Type': 'application/x-www-form-urlencoded;charset=UTF-8',\n",
    "}\n",
    "\n",
    "auth_data = {\n",
    "    'grant_type': 'authorization_code',\n",
    "    'code': auth_code,\n",
    "    'redirect_uri':redirect_uri,\n",
    "}\n",
    "\n",
    "auth_resp = requests.post(base_url, headers=auth_headers, data=auth_data)\n",
    "auth_resp.json()"
   ]
  },
  {
   "cell_type": "markdown",
   "id": "ae1bebd1",
   "metadata": {},
   "source": [
    "## Save the access token for the user"
   ]
  },
  {
   "cell_type": "markdown",
   "id": "225858b3",
   "metadata": {},
   "source": [
    "Store all of the information your integration receives with the access token. You never know when your UI requirements or product requirements might change, and you find some use of this data. More info on Notion https://developers.notion.com/docs/authorization#user-grants-access"
   ]
  },
  {
   "cell_type": "code",
   "execution_count": null,
   "id": "e8494586",
   "metadata": {},
   "outputs": [],
   "source": [
    "access_token = auth_resp.json()['access_token']"
   ]
  },
  {
   "cell_type": "markdown",
   "id": "efcf2c17",
   "metadata": {},
   "source": [
    "## Search for which databases the user granted access to"
   ]
  },
  {
   "cell_type": "code",
   "execution_count": null,
   "id": "e2f41ed3",
   "metadata": {},
   "outputs": [],
   "source": [
    "url = \"https://api.notion.com/v1/search\"\n",
    "\n",
    "payload = {\"page_size\": 100}\n",
    "headers = {\n",
    "    \"accept\": \"application/json\",\n",
    "    \"Notion-Version\": \"2022-06-28\",\n",
    "    \"content-type\": \"application/json\",\n",
    "    \"authorization\": f\"Bearer {access_token}\"\n",
    "}\n",
    "\n",
    "response = requests.post(url, json=payload, headers=headers)\n",
    "response.json()"
   ]
  },
  {
   "cell_type": "markdown",
   "id": "0f8da019",
   "metadata": {},
   "source": [
    "## Save the granted database data"
   ]
  },
  {
   "cell_type": "code",
   "execution_count": null,
   "id": "8687d524",
   "metadata": {},
   "outputs": [],
   "source": [
    "database_data = response.json()['results']\n",
    "notion_database_id = database_data[0]['id']"
   ]
  },
  {
   "cell_type": "markdown",
   "id": "336db961",
   "metadata": {},
   "source": [
    "## Create example data to add to database"
   ]
  },
  {
   "cell_type": "code",
   "execution_count": null,
   "id": "a4b34304",
   "metadata": {},
   "outputs": [],
   "source": [
    "example_data = {\n",
    "    \"handle\": \"@SomeHandle\",\n",
    "    \"tweet\": \"Here is a tweet\"\n",
    "}"
   ]
  },
  {
   "cell_type": "markdown",
   "id": "c555061a",
   "metadata": {},
   "source": [
    "## Add data to user table"
   ]
  },
  {
   "cell_type": "code",
   "execution_count": null,
   "id": "9a36bceb",
   "metadata": {},
   "outputs": [],
   "source": [
    "headers = {\n",
    "    'Authorization': 'Bearer ' + access_token,\n",
    "    'Content-Type': 'application/json',\n",
    "    'Notion-Version': '2021-08-16'\n",
    "}\n",
    "\n",
    "payload= {\n",
    "    'parent': { 'database_id': notion_database_id },\n",
    "    'properties': {\n",
    "        'title': {\n",
    "            'title': [\n",
    "                {\n",
    "                    'text': {\n",
    "                        'content': example_data['handle']\n",
    "                    }\n",
    "                }\n",
    "            ]\n",
    "        },\n",
    "        'tweet': {\n",
    "            'rich_text':[\n",
    "                {\n",
    "                    'type':'text',\n",
    "                    'text': {\n",
    "                        'content': example_data['tweet']\n",
    "                    }\n",
    "                }\n",
    "            ]\n",
    "        }\n",
    "    }\n",
    "}\n",
    "\n",
    "response = requests.post('https://api.notion.com/v1/pages', headers=headers,data=json.dumps(payload))\n",
    "response.json()"
   ]
  }
 ],
 "metadata": {
  "kernelspec": {
   "display_name": "Python 3",
   "language": "python",
   "name": "python3"
  },
  "language_info": {
   "codemirror_mode": {
    "name": "ipython",
    "version": 3
   },
   "file_extension": ".py",
   "mimetype": "text/x-python",
   "name": "python",
   "nbconvert_exporter": "python",
   "pygments_lexer": "ipython3",
   "version": "3.8.5"
  }
 },
 "nbformat": 4,
 "nbformat_minor": 5
}
